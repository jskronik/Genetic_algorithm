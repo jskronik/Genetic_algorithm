{
 "cells": [
  {
   "cell_type": "markdown",
   "id": "110cd488",
   "metadata": {},
   "source": [
    "# Rozwiązanie problemu plecakowego wykorzystując algorytm genetyczny"
   ]
  },
  {
   "cell_type": "code",
   "execution_count": 3,
   "id": "69a8eeaa",
   "metadata": {},
   "outputs": [],
   "source": [
    "import random\n",
    "import numpy as np\n",
    "import matplotlib.pyplot as plt"
   ]
  },
  {
   "cell_type": "markdown",
   "id": "55aa26b0",
   "metadata": {},
   "source": [
    "### 1. Wygenerowanie danych plecaka"
   ]
  },
  {
   "cell_type": "code",
   "execution_count": 72,
   "id": "3d7c6898",
   "metadata": {},
   "outputs": [],
   "source": [
    "def generate_knapsack_data(weight_range, value_range, num_items):\n",
    "    item_list = []\n",
    "    for _ in range(num_items):\n",
    "        weight = np.random.randint(weight_range[0], weight_range[1])\n",
    "        value = np.random.randint(value_range[0], value_range[1])\n",
    "        item_list.append((weight, value))    \n",
    "    item_list = list(enumerate(item_list,1))\n",
    "    return item_list"
   ]
  },
  {
   "cell_type": "code",
   "execution_count": 73,
   "id": "1352b211",
   "metadata": {},
   "outputs": [
    {
     "data": {
      "text/plain": [
       "[(1, (8, 5)),\n",
       " (2, (6, 5)),\n",
       " (3, (7, 3)),\n",
       " (4, (3, 6)),\n",
       " (5, (9, 2)),\n",
       " (6, (1, 13)),\n",
       " (7, (8, 18)),\n",
       " (8, (6, 16)),\n",
       " (9, (3, 4)),\n",
       " (10, (5, 3))]"
      ]
     },
     "execution_count": 73,
     "metadata": {},
     "output_type": "execute_result"
    }
   ],
   "source": [
    "item_list = generate_knapsack_data((1,10), (1,20), 10)\n",
    "item_list"
   ]
  },
  {
   "cell_type": "markdown",
   "id": "18e5b696",
   "metadata": {},
   "source": [
    "### 2. Inicjowanie populacji"
   ]
  },
  {
   "cell_type": "code",
   "execution_count": 75,
   "id": "d5b75632",
   "metadata": {},
   "outputs": [],
   "source": [
    "def generate_population(pop_rows, num_items):\n",
    "    population = [np.random.randint(0, 2, num_items).tolist() for _ in range(pop_rows)]\n",
    "    population = np.array(population)\n",
    "    return population"
   ]
  },
  {
   "cell_type": "code",
   "execution_count": 76,
   "id": "77d9ae46",
   "metadata": {
    "scrolled": true
   },
   "outputs": [
    {
     "data": {
      "text/plain": [
       "array([[1, 0, 0, 1, 1, 1, 0, 0, 0, 0],\n",
       "       [1, 1, 0, 1, 1, 0, 1, 1, 1, 1],\n",
       "       [0, 1, 1, 0, 1, 1, 0, 1, 1, 0],\n",
       "       [1, 1, 1, 1, 1, 1, 0, 1, 0, 1],\n",
       "       [1, 0, 0, 1, 1, 1, 0, 1, 0, 1],\n",
       "       [0, 1, 0, 0, 0, 0, 1, 0, 0, 1],\n",
       "       [1, 1, 0, 0, 0, 0, 1, 1, 0, 0],\n",
       "       [0, 0, 1, 1, 0, 0, 0, 1, 0, 0],\n",
       "       [1, 0, 0, 1, 1, 0, 0, 1, 0, 1],\n",
       "       [1, 1, 0, 0, 1, 0, 0, 0, 0, 1]])"
      ]
     },
     "execution_count": 76,
     "metadata": {},
     "output_type": "execute_result"
    }
   ],
   "source": [
    "population = generate_population(10, 10)\n",
    "population"
   ]
  },
  {
   "cell_type": "markdown",
   "id": "a89bcbaa",
   "metadata": {},
   "source": [
    "### 3. Funkcja dopasowania "
   ]
  },
  {
   "cell_type": "code",
   "execution_count": 147,
   "id": "d170cb10",
   "metadata": {},
   "outputs": [],
   "source": [
    "def fitness_vec(item_list, population, threshold):\n",
    "    value_fitness = np.empty(len(population))\n",
    "    weight_fitness = np.empty(len(population))\n",
    "    weight_list = [element[1][0] for element in item_list]\n",
    "    value_list = [element[1][1] for element in item_list]\n",
    "    for i in range(len(population)):\n",
    "        weight_sum = np.sum(population[i] * weight_list)\n",
    "        value_sum = np.sum(population[i] * value_list)\n",
    "        if weight_sum <= threshold:\n",
    "            value_fitness[i] = value_sum\n",
    "            weight_fitness[i] = weight_sum\n",
    "        else:\n",
    "            value_fitness[i] = 0 \n",
    "            weight_fitness[i] = 0\n",
    "            \n",
    "    #print(f'Weights list: {weight_list}')\n",
    "    #print(f'Values list: {value_list}')\n",
    "    #print(population)\n",
    "    #print(f'Value fitness: {value_fitness}')\n",
    "    #print(f'Weight fitness: {weight_fitness}')\n",
    "    \n",
    "    return value_fitness.astype(int), weight_fitness.astype(int)"
   ]
  },
  {
   "cell_type": "code",
   "execution_count": 78,
   "id": "093a9307",
   "metadata": {},
   "outputs": [
    {
     "name": "stdout",
     "output_type": "stream",
     "text": [
      "Weights list: [8, 6, 7, 3, 9, 1, 8, 6, 3, 5]\n",
      "Values list: [5, 5, 3, 6, 2, 13, 18, 16, 4, 3]\n",
      "[[1 0 0 1 1 1 0 0 0 0]\n",
      " [1 1 0 1 1 0 1 1 1 1]\n",
      " [0 1 1 0 1 1 0 1 1 0]\n",
      " [1 1 1 1 1 1 0 1 0 1]\n",
      " [1 0 0 1 1 1 0 1 0 1]\n",
      " [0 1 0 0 0 0 1 0 0 1]\n",
      " [1 1 0 0 0 0 1 1 0 0]\n",
      " [0 0 1 1 0 0 0 1 0 0]\n",
      " [1 0 0 1 1 0 0 1 0 1]\n",
      " [1 1 0 0 1 0 0 0 0 1]]\n",
      "Value fitness: [26.  0. 43.  0. 45. 26. 44. 25. 32. 15.]\n",
      "Weight fitness: [21.  0. 32.  0. 32. 19. 28. 16. 31. 28.]\n"
     ]
    },
    {
     "data": {
      "text/plain": [
       "(array([26,  0, 43,  0, 45, 26, 44, 25, 32, 15]),\n",
       " array([21,  0, 32,  0, 32, 19, 28, 16, 31, 28]))"
      ]
     },
     "execution_count": 78,
     "metadata": {},
     "output_type": "execute_result"
    }
   ],
   "source": [
    "fitness = fitness_vec(item_list, population, 35)\n",
    "fitness"
   ]
  },
  {
   "cell_type": "markdown",
   "id": "c6e515d3",
   "metadata": {},
   "source": [
    "### 4. Selekcja rodziców"
   ]
  },
  {
   "cell_type": "code",
   "execution_count": 148,
   "id": "71e33e80",
   "metadata": {},
   "outputs": [],
   "source": [
    "def selection(fitness, population):\n",
    "    \n",
    "    candidates = []\n",
    "    parents = []\n",
    "    \n",
    "    for i in range(len(population)):\n",
    "        pop_fit = [population[i], fitness[0][i]]\n",
    "        candidates.append(pop_fit)\n",
    "        \n",
    "    #print('before sorting:')\n",
    "    #print(np.array(candidates,dtype=object))\n",
    "    \n",
    "    random.shuffle(candidates)\n",
    "    \n",
    "    if candidates[0][1] > candidates[1][1]:\n",
    "        parents.append(candidates[0][0])\n",
    "    else:\n",
    "        parents.append(candidates[1][0])\n",
    "    \n",
    "    if candidates[2][1] > candidates[3][1]:\n",
    "        parents.append(candidates[2][0])\n",
    "    else:\n",
    "        parents.append(candidates[3][0])\n",
    "        \n",
    "    #print('after sorting:')\n",
    "    #print(np.array(candidates,dtype=object))\n",
    "    #print('Tournament 1:')\n",
    "    #print(f'Candidate 1: {candidates[0][0]} | Value:{candidates[0][1]}')\n",
    "    #print(f'Candidate 2: {candidates[1][0]} | Value:{candidates[1][1]}')\n",
    "    #print('Tournament 2:')\n",
    "    #print(f'Candidate 3: {candidates[2][0]} | Value:{candidates[2][1]}')\n",
    "    #print(f'Candidate 4: {candidates[3][0]} | Value:{candidates[3][1]}')\n",
    "    #print('Parents:')\n",
    "\n",
    "    return parents"
   ]
  },
  {
   "cell_type": "code",
   "execution_count": 80,
   "id": "ba939d6e",
   "metadata": {},
   "outputs": [
    {
     "name": "stdout",
     "output_type": "stream",
     "text": [
      "before sorting:\n",
      "[[array([1, 0, 0, 1, 1, 1, 0, 0, 0, 0]) 26]\n",
      " [array([1, 1, 0, 1, 1, 0, 1, 1, 1, 1]) 0]\n",
      " [array([0, 1, 1, 0, 1, 1, 0, 1, 1, 0]) 43]\n",
      " [array([1, 1, 1, 1, 1, 1, 0, 1, 0, 1]) 0]\n",
      " [array([1, 0, 0, 1, 1, 1, 0, 1, 0, 1]) 45]\n",
      " [array([0, 1, 0, 0, 0, 0, 1, 0, 0, 1]) 26]\n",
      " [array([1, 1, 0, 0, 0, 0, 1, 1, 0, 0]) 44]\n",
      " [array([0, 0, 1, 1, 0, 0, 0, 1, 0, 0]) 25]\n",
      " [array([1, 0, 0, 1, 1, 0, 0, 1, 0, 1]) 32]\n",
      " [array([1, 1, 0, 0, 1, 0, 0, 0, 0, 1]) 15]]\n",
      "after sorting:\n",
      "[[array([1, 1, 1, 1, 1, 1, 0, 1, 0, 1]) 0]\n",
      " [array([1, 0, 0, 1, 1, 0, 0, 1, 0, 1]) 32]\n",
      " [array([1, 1, 0, 1, 1, 0, 1, 1, 1, 1]) 0]\n",
      " [array([0, 0, 1, 1, 0, 0, 0, 1, 0, 0]) 25]\n",
      " [array([0, 1, 1, 0, 1, 1, 0, 1, 1, 0]) 43]\n",
      " [array([1, 1, 0, 0, 0, 0, 1, 1, 0, 0]) 44]\n",
      " [array([1, 1, 0, 0, 1, 0, 0, 0, 0, 1]) 15]\n",
      " [array([1, 0, 0, 1, 1, 1, 0, 0, 0, 0]) 26]\n",
      " [array([0, 1, 0, 0, 0, 0, 1, 0, 0, 1]) 26]\n",
      " [array([1, 0, 0, 1, 1, 1, 0, 1, 0, 1]) 45]]\n",
      "Tournament 1:\n",
      "Candidate 1: [1 1 1 1 1 1 0 1 0 1] | Value:0\n",
      "Candidate 2: [1 0 0 1 1 0 0 1 0 1] | Value:32\n",
      "Tournament 2:\n",
      "Candidate 3: [1 1 0 1 1 0 1 1 1 1] | Value:0\n",
      "Candidate 4: [0 0 1 1 0 0 0 1 0 0] | Value:25\n",
      "Parents:\n"
     ]
    },
    {
     "data": {
      "text/plain": [
       "[array([1, 0, 0, 1, 1, 0, 0, 1, 0, 1]), array([0, 0, 1, 1, 0, 0, 0, 1, 0, 0])]"
      ]
     },
     "execution_count": 80,
     "metadata": {},
     "output_type": "execute_result"
    }
   ],
   "source": [
    "parents = selection(fitness, population)\n",
    "parents"
   ]
  },
  {
   "cell_type": "markdown",
   "id": "4488c1d8",
   "metadata": {},
   "source": [
    "### 5. Krzyżowanie"
   ]
  },
  {
   "cell_type": "code",
   "execution_count": 149,
   "id": "b092488b",
   "metadata": {},
   "outputs": [],
   "source": [
    "def crossover(parents,num_items):\n",
    "    \n",
    "    parent1 = parents[0].astype(int)\n",
    "    parent2 = parents[1].astype(int)\n",
    "    \n",
    "    crossover_point = random.randint(0, num_items-1)\n",
    "    \n",
    "    #print(f'crossover_point: {crossover_point}')\n",
    "    #print(f'parent1: {parent1}')\n",
    "    #print(f'parent2: {parent2}')\n",
    "    #print(f'parent1_crossover_point: {parent1[0:crossover_point]}')\n",
    "    #print(f' {parent1[crossover_point:]}')\n",
    "    #print(f'parent2_crossover_point: {parent2[0:crossover_point]}')\n",
    "    #print(f' {parent2[crossover_point:]}')\n",
    "    \n",
    "    child1 = np.concatenate((parent1[0:crossover_point], parent2[crossover_point:]))\n",
    "    child2 = np.concatenate((parent2[0:crossover_point], parent1[crossover_point:]))\n",
    "    \n",
    "    #print(\"Otrzymane dzieci po operacji krzyzowania\")\n",
    "    #print(f'child1: {child1}')\n",
    "    #print(f'child2: {child2}')\n",
    "    \n",
    "    return child1, child2"
   ]
  },
  {
   "cell_type": "code",
   "execution_count": 141,
   "id": "50afa632",
   "metadata": {
    "scrolled": true
   },
   "outputs": [
    {
     "name": "stdout",
     "output_type": "stream",
     "text": [
      "crossover_point: 6\n",
      "parent1: [1 0 0 1 1 0 0 1 0 1]\n",
      "parent2: [0 0 1 1 0 0 0 1 0 0]\n",
      "parent1_crossover_point: [1 0 0 1 1 0]\n",
      " [0 1 0 1]\n",
      "parent2_crossover_point: [0 0 1 1 0 0]\n",
      " [0 1 0 0]\n",
      "Otrzymane dzieci po operacji krzyzowania\n",
      "child1: [1 0 0 1 1 0 0 1 0 0]\n",
      "child2: [0 0 1 1 0 0 0 1 0 1]\n"
     ]
    },
    {
     "data": {
      "text/plain": [
       "(array([1, 0, 0, 1, 1, 0, 0, 1, 0, 0]), array([0, 0, 1, 1, 0, 0, 0, 1, 0, 1]))"
      ]
     },
     "execution_count": 141,
     "metadata": {},
     "output_type": "execute_result"
    }
   ],
   "source": [
    "children = crossover(parents,10)\n",
    "children"
   ]
  },
  {
   "cell_type": "markdown",
   "id": "6ac9fd11",
   "metadata": {},
   "source": [
    "# 6. Mutacja"
   ]
  },
  {
   "cell_type": "code",
   "execution_count": 112,
   "id": "e8922bbc",
   "metadata": {},
   "outputs": [],
   "source": [
    "def mutation(children,mutation_rate):\n",
    "    mutants = []\n",
    "    for child in children:\n",
    "        for i in range(len(child)):\n",
    "            if random.random() < mutation_rate:\n",
    "                if child[i] == 0:\n",
    "                    child[i] = 1\n",
    "                else:\n",
    "                    child[i] = 0\n",
    "            else:\n",
    "                pass\n",
    "        mutants.append(child)\n",
    "    return mutants"
   ]
  },
  {
   "cell_type": "code",
   "execution_count": 143,
   "id": "096ac8ed",
   "metadata": {},
   "outputs": [
    {
     "data": {
      "text/plain": [
       "[array([1, 0, 0, 1, 1, 0, 1, 1, 0, 0]), array([0, 1, 1, 1, 0, 0, 0, 1, 0, 1])]"
      ]
     },
     "execution_count": 143,
     "metadata": {},
     "output_type": "execute_result"
    }
   ],
   "source": [
    "mutated_children = mutation(children,0.05)\n",
    "mutated_children"
   ]
  },
  {
   "cell_type": "markdown",
   "id": "25f997a7",
   "metadata": {},
   "source": [
    "### 7. Reprodukcja"
   ]
  },
  {
   "cell_type": "code",
   "execution_count": 150,
   "id": "f506dd62",
   "metadata": {},
   "outputs": [],
   "source": [
    "def reproduction(population, max_generations):\n",
    "    \n",
    "    \n",
    "    fitness_scores = fitness_vec(item_list, population, threshold)\n",
    "    initial_fitness = fitness_scores\n",
    "    print('----------INITIAL POPULATION---------')\n",
    "    print(population)\n",
    "    print('**********INITIAL FITNESS************')\n",
    "    print(f'values: {initial_fitness[0]} \\nweights: {initial_fitness[1]}')\n",
    "    for generation in range(max_generations):\n",
    "        \n",
    "        parents = selection(fitness_scores, population)\n",
    "        children = crossover(parents,num_items)\n",
    "        mutated_children = np.array(mutation(children,mutation_rate))\n",
    "        \n",
    "        updated_population = np.concatenate((population, mutated_children))\n",
    "        fitness_scores = fitness_vec(item_list, updated_population, threshold)\n",
    "\n",
    "        lowest_indices = np.argsort(fitness_scores[0])[:2]\n",
    "        population = np.delete(updated_population, lowest_indices, axis=0)\n",
    "\n",
    "            \n",
    "    fitness_scores_final = fitness_vec(item_list, population, threshold)\n",
    "    print('------------FINAL POPULATION---------------')\n",
    "    print(population)\n",
    "    print('**********FINAL FITNESS************')\n",
    "    print(f'values: {fitness_scores_final[0]} \\nweights: {fitness_scores_final[1]}')"
   ]
  },
  {
   "cell_type": "code",
   "execution_count": 152,
   "id": "2ba98fed",
   "metadata": {},
   "outputs": [
    {
     "name": "stdout",
     "output_type": "stream",
     "text": [
      "----------INITIAL POPULATION---------\n",
      "[[1 0 0 1 1 1 0 0 0 0]\n",
      " [1 1 0 1 1 0 1 1 1 1]\n",
      " [0 1 1 0 1 1 0 1 1 0]\n",
      " [1 1 1 1 1 1 0 1 0 1]\n",
      " [1 0 0 1 1 1 0 1 0 1]\n",
      " [0 1 0 0 0 0 1 0 0 1]\n",
      " [1 1 0 0 0 0 1 1 0 0]\n",
      " [0 0 1 1 0 0 0 1 0 0]\n",
      " [1 0 0 1 1 0 0 1 0 1]\n",
      " [1 1 0 0 1 0 0 0 0 1]]\n",
      "**********INITIAL FITNESS************\n",
      "values: [26  0 43  0 45 26 44 25 32 15] \n",
      "weights: [21  0 32  0 32 19 28 16 31 28]\n",
      "------------FINAL POPULATION---------------\n",
      "[[1 1 0 1 0 1 1 1 1 0]\n",
      " [1 1 0 1 0 1 1 1 1 0]\n",
      " [1 1 0 1 0 1 1 1 1 0]\n",
      " [1 1 0 1 0 1 1 1 1 0]\n",
      " [1 1 0 1 0 1 1 1 1 0]\n",
      " [1 1 0 1 0 1 1 1 1 0]\n",
      " [1 1 0 1 0 1 1 1 1 0]\n",
      " [1 1 0 1 0 1 1 1 1 0]\n",
      " [1 1 0 1 0 1 1 1 1 0]\n",
      " [1 1 0 1 0 1 1 1 1 0]]\n",
      "**********FINAL FITNESS************\n",
      "values: [67 67 67 67 67 67 67 67 67 67] \n",
      "weights: [35 35 35 35 35 35 35 35 35 35]\n"
     ]
    }
   ],
   "source": [
    "reproduction(population, 100)"
   ]
  },
  {
   "cell_type": "markdown",
   "id": "5d4ca890",
   "metadata": {},
   "source": [
    "### 8. Finalny solver"
   ]
  },
  {
   "cell_type": "code",
   "execution_count": 214,
   "id": "1ac4668a",
   "metadata": {},
   "outputs": [],
   "source": [
    "def genetic_algorithm(weight_range, value_range, num_items, pop_rows, threshold, mutation_rate, max_generations):\n",
    "    \n",
    "    def generate_knapsack_data(weight_range, value_range, num_items):\n",
    "        item_list = []\n",
    "        for _ in range(num_items):\n",
    "            weight = np.random.randint(weight_range[0], weight_range[1])\n",
    "            value = np.random.randint(value_range[0], value_range[1])\n",
    "            item_list.append((weight, value))    \n",
    "        item_list = list(enumerate(item_list,1))\n",
    "        return item_list\n",
    "    \n",
    "    item_list = generate_knapsack_data(weight_range, value_range, num_items)\n",
    "\n",
    "    def generate_population(pop_rows, num_items):\n",
    "        population = [np.random.randint(0, 2, num_items).tolist() for _ in range(pop_rows)]\n",
    "        population = np.array(population)\n",
    "        return population\n",
    "\n",
    "    population = generate_population(pop_rows, num_items)\n",
    "    \n",
    "    def fitness_vec(item_list, population, threshold):\n",
    "        fitness = np.empty(len(population))\n",
    "        weightness = np.empty(len(population))\n",
    "        weight_list = [element[1][0] for element in item_list]\n",
    "        value_list = [element[1][1] for element in item_list]\n",
    "        for i in range(len(population)):\n",
    "            weight_sum = np.sum(population[i] * weight_list)\n",
    "            value_sum = np.sum(population[i] * value_list)\n",
    "            if weight_sum <= threshold:\n",
    "                fitness[i] = value_sum\n",
    "                weightness[i] = weight_sum\n",
    "            else:\n",
    "                fitness[i] = 0 \n",
    "                weightness[i] = 0\n",
    "        return fitness.astype(int), weightness.astype(int)\n",
    "    \n",
    "    fitness = fitness_vec(item_list, population, threshold)\n",
    "\n",
    "    def selection(fitness, population):\n",
    "        candidates = []\n",
    "        parents = []\n",
    "        for i in range(len(population)):\n",
    "            pop_fit = [population[i], fitness[0][i]]\n",
    "            candidates.append(pop_fit)\n",
    "        random.shuffle(candidates)\n",
    "        \n",
    "        if candidates[0][1] > candidates[1][1]:\n",
    "            parents.append(candidates[0][0])\n",
    "        else:\n",
    "            parents.append(candidates[1][0])\n",
    "        \n",
    "        if candidates[2][1] > candidates[3][1]:\n",
    "            parents.append(candidates[2][0])\n",
    "        else:\n",
    "            parents.append(candidates[3][0])\n",
    "    \n",
    "        return parents\n",
    "    \n",
    "    parents = selection(fitness, population)\n",
    "\n",
    "    def crossover(parents, num_items):\n",
    "        parent1 = parents[0].astype(int)\n",
    "        parent2 = parents[1].astype(int)\n",
    "        crossover_point = random.randint(0, num_items-1)\n",
    "        \n",
    "        child1 = np.concatenate((parent1[0:crossover_point], parent2[crossover_point:]))\n",
    "        child2 = np.concatenate((parent2[0:crossover_point], parent1[crossover_point:]))\n",
    "        \n",
    "        return child1, child2\n",
    "\n",
    "    children = crossover(parents, num_items)\n",
    "    \n",
    "    def mutation(children,mutation_rate):\n",
    "        mutants = []\n",
    "        for child in children:\n",
    "            for i in range(len(child)):\n",
    "                if random.random() < mutation_rate:\n",
    "                    if child[i] == 0:\n",
    "                        child[i] = 1\n",
    "                    else:\n",
    "                        child[i] = 0\n",
    "                else:\n",
    "                    pass\n",
    "            mutants.append(child)\n",
    "        return mutants\n",
    "    \n",
    "    mmutated_children = mutation(children,mutation_rate)\n",
    "    \n",
    "    def reproduction(population, max_generations):\n",
    "    \n",
    "        history_best_solutions = []\n",
    "        selected_items = []\n",
    "        best_value = 0\n",
    "        \n",
    "        fitness_scores = fitness_vec(item_list, population, threshold)\n",
    "        initial_fitness = fitness_scores\n",
    "        print('<<<<<<<<<<ITEMS LIST>>>>>>>>>>>\\n')\n",
    "        print(f'{item_list}\\n')\n",
    "        print('----------INITIAL POPULATION---------\\n')\n",
    "        print(f'{population}\\n')\n",
    "        print('**********INITIAL FITNESS************\\n')\n",
    "        print(f'values: {initial_fitness[0]}\\nweights: {initial_fitness[1]}\\n')\n",
    "        for generation in range(max_generations):\n",
    "            \n",
    "            parents = selection(fitness_scores, population)\n",
    "            children = crossover(parents,num_items)\n",
    "            mutated_children = np.array(mutation(children,mutation_rate))\n",
    "            \n",
    "            updated_population = np.concatenate((population, mutated_children))\n",
    "            fitness_scores = fitness_vec(item_list, updated_population, threshold)\n",
    "    \n",
    "            lowest_indices = np.argsort(fitness_scores[0])[:2]\n",
    "            population = np.delete(updated_population, lowest_indices, axis=0)\n",
    "            \n",
    "            if np.max(fitness_scores[0]) > best_value:\n",
    "                best_value = np.max(fitness_scores[0])\n",
    "                history_best_solutions.append(best_value)\n",
    "                \n",
    "        fitness_scores_final = fitness_vec(item_list, population, threshold)\n",
    "        best_solution = population[np.argmax(fitness_scores_final)]\n",
    "        \n",
    "        if np.max(fitness_scores_final) != 0:\n",
    "            for item in zip(item_list, best_solution):\n",
    "                if item[1] == 1:\n",
    "                    selected_items.append(item[0][0])\n",
    "        else:\n",
    "            best_solution = 'None'\n",
    "            selected_items = 'None'\n",
    "                \n",
    "        print('------------FINAL POPULATION---------------\\n')\n",
    "        print(f'{population}\\n')\n",
    "        print('**********FINAL FITNESS************\\n')\n",
    "        print(f'values: {fitness_scores_final[0]}\\nweights: {fitness_scores_final[1]}\\n')\n",
    "        print(f'BEST SOLUTION\\n')\n",
    "        print(f'{best_solution}\\n')\n",
    "        print('SELECTED ITEMS NUMBERS\\n')\n",
    "        print(f'{selected_items}\\n')\n",
    "        \n",
    "        function_improvements = np.arange(len(history_best_solutions))\n",
    "        \n",
    "        plt.plot(function_improvements, history_best_solutions)\n",
    "        plt.xlabel('Number of function improvement')\n",
    "        plt.ylabel('Fitness Value')\n",
    "        plt.title('Fitness Progression')\n",
    "        plt.show()\n",
    "    \n",
    "    reproduction(population, max_generations)\n",
    "    "
   ]
  },
  {
   "cell_type": "code",
   "execution_count": 216,
   "id": "410f7364",
   "metadata": {},
   "outputs": [
    {
     "name": "stdout",
     "output_type": "stream",
     "text": [
      "<<<<<<<<<<ITEMS LIST>>>>>>>>>>>\n",
      "\n",
      "[(1, (74, 13)), (2, (52, 23)), (3, (19, 130)), (4, (44, 157)), (5, (37, 36)), (6, (81, 164)), (7, (18, 128)), (8, (79, 132)), (9, (2, 177)), (10, (68, 85)), (11, (53, 167)), (12, (52, 161)), (13, (19, 119)), (14, (53, 27)), (15, (78, 174)), (16, (32, 73)), (17, (12, 8)), (18, (36, 104)), (19, (51, 112)), (20, (53, 91))]\n",
      "\n",
      "----------INITIAL POPULATION---------\n",
      "\n",
      "[[1 1 0 1 0 0 0 1 1 0 1 1 0 1 1 0 0 1 0 1]\n",
      " [0 0 1 0 1 0 1 0 0 0 0 0 1 1 1 0 0 0 0 1]\n",
      " [1 0 0 1 0 0 0 0 0 1 0 0 1 1 1 1 1 1 1 0]\n",
      " [1 1 1 1 1 0 0 0 0 0 0 0 1 1 1 0 0 0 1 1]\n",
      " [1 0 1 0 1 0 0 1 1 1 0 1 0 1 0 1 0 1 1 0]\n",
      " [1 1 0 1 0 0 1 1 0 1 0 1 1 0 0 1 0 1 1 0]\n",
      " [1 0 1 1 0 1 0 1 0 0 1 1 1 1 0 1 1 0 1 0]\n",
      " [0 0 1 0 1 0 0 0 0 0 1 0 1 1 1 1 0 0 0 0]\n",
      " [1 0 1 0 0 0 0 0 1 0 1 1 1 0 1 0 0 0 1 0]\n",
      " [0 0 1 0 1 0 1 1 0 0 0 1 0 0 0 0 0 1 0 0]]\n",
      "\n",
      "**********INITIAL FITNESS************\n",
      "\n",
      "values: [   0  705  872  882    0    0    0  726 1053  691]\n",
      "weights: [  0 277 467 480   0   0   0 291 348 241]\n",
      "\n",
      "------------FINAL POPULATION---------------\n",
      "\n",
      "[[0 0 1 1 0 1 1 0 1 0 1 1 1 0 1 1 1 1 1 0]\n",
      " [0 0 1 1 0 1 1 0 1 0 1 1 1 0 1 1 1 1 1 0]\n",
      " [0 0 1 1 0 1 1 0 1 0 1 1 1 0 1 1 1 1 1 0]\n",
      " [0 0 1 1 0 1 1 0 1 0 1 1 1 0 1 1 1 1 1 0]\n",
      " [0 0 1 1 0 1 1 0 1 0 1 1 1 0 1 1 1 1 1 0]\n",
      " [0 0 1 1 0 1 1 0 1 0 1 1 1 0 1 1 1 1 1 0]\n",
      " [0 0 1 1 0 1 1 0 1 0 1 1 1 0 1 1 1 1 1 0]\n",
      " [0 0 1 1 0 1 1 0 1 0 1 1 1 0 1 1 1 1 1 0]\n",
      " [0 0 1 1 0 1 1 0 1 0 1 1 1 0 1 1 1 1 1 0]\n",
      " [0 0 1 1 0 1 1 0 1 0 1 1 1 0 1 1 1 1 1 0]]\n",
      "\n",
      "**********FINAL FITNESS************\n",
      "\n",
      "values: [1674 1674 1674 1674 1674 1674 1674 1674 1674 1674]\n",
      "weights: [497 497 497 497 497 497 497 497 497 497]\n",
      "\n",
      "BEST SOLUTION\n",
      "\n",
      "[0 0 1 1 0 1 1 0 1 0 1 1 1 0 1 1 1 1 1 0]\n",
      "\n",
      "SELECTED ITEMS NUMBERS\n",
      "\n",
      "[3, 4, 6, 7, 9, 11, 12, 13, 15, 16, 17, 18, 19]\n",
      "\n"
     ]
    },
    {
     "data": {
      "image/png": "[encoded data removed]",
      "text/plain": [
       "<Figure size 640x480 with 1 Axes>"
      ]
     },
     "metadata": {},
     "output_type": "display_data"
    }
   ],
   "source": [
    "genetic_algorithm((1,100), (1,200), 20, 10, 500, 0.05, 10000)"
   ]
  },
  {
   "cell_type": "code",
   "execution_count": 219,
   "id": "04eabcb9",
   "metadata": {},
   "outputs": [
    {
     "name": "stdout",
     "output_type": "stream",
     "text": [
      "<<<<<<<<<<ITEMS LIST>>>>>>>>>>>\n",
      "\n",
      "[(1, (5, 46)), (2, (95, 185)), (3, (87, 70)), (4, (66, 107)), (5, (92, 189)), (6, (12, 54)), (7, (92, 70)), (8, (52, 9)), (9, (96, 76)), (10, (59, 1)), (11, (68, 21)), (12, (45, 153)), (13, (64, 26)), (14, (50, 196)), (15, (97, 109)), (16, (22, 102)), (17, (90, 195)), (18, (4, 73)), (19, (3, 123)), (20, (37, 124)), (21, (89, 178)), (22, (64, 178)), (23, (12, 135)), (24, (79, 5)), (25, (11, 186)), (26, (68, 157)), (27, (36, 55)), (28, (61, 46)), (29, (81, 135)), (30, (93, 14)), (31, (57, 16)), (32, (62, 100)), (33, (3, 156)), (34, (72, 171)), (35, (18, 66)), (36, (66, 12)), (37, (48, 62)), (38, (94, 173)), (39, (98, 196)), (40, (84, 154)), (41, (74, 185)), (42, (37, 144)), (43, (30, 8)), (44, (18, 32)), (45, (81, 69)), (46, (98, 57)), (47, (69, 146)), (48, (97, 93)), (49, (39, 95)), (50, (63, 126)), (51, (90, 84)), (52, (5, 169)), (53, (66, 106)), (54, (68, 149)), (55, (82, 77)), (56, (77, 106)), (57, (21, 96)), (58, (51, 161)), (59, (92, 137)), (60, (75, 19)), (61, (74, 184)), (62, (68, 13)), (63, (3, 77)), (64, (26, 53)), (65, (18, 155)), (66, (62, 131)), (67, (4, 165)), (68, (7, 164)), (69, (30, 31)), (70, (60, 91)), (71, (14, 29)), (72, (58, 68)), (73, (78, 11)), (74, (52, 44)), (75, (18, 145)), (76, (98, 79)), (77, (34, 48)), (78, (70, 16)), (79, (95, 157)), (80, (20, 98)), (81, (18, 111)), (82, (5, 33)), (83, (75, 78)), (84, (55, 116)), (85, (26, 165)), (86, (36, 143)), (87, (81, 194)), (88, (46, 83)), (89, (51, 188)), (90, (55, 93)), (91, (89, 109)), (92, (3, 84)), (93, (25, 195)), (94, (2, 159)), (95, (49, 30)), (96, (95, 159)), (97, (62, 119)), (98, (5, 123)), (99, (49, 167)), (100, (39, 156)), (101, (47, 28)), (102, (36, 89)), (103, (10, 109)), (104, (89, 21)), (105, (1, 83)), (106, (47, 8)), (107, (70, 22)), (108, (79, 128)), (109, (42, 166)), (110, (63, 176)), (111, (65, 58)), (112, (45, 159)), (113, (6, 36)), (114, (75, 142)), (115, (37, 139)), (116, (57, 120)), (117, (4, 44)), (118, (21, 87)), (119, (98, 62)), (120, (21, 80)), (121, (92, 11)), (122, (34, 62)), (123, (56, 114)), (124, (57, 69)), (125, (41, 187)), (126, (11, 92)), (127, (71, 68)), (128, (97, 105)), (129, (22, 167)), (130, (15, 166)), (131, (17, 186)), (132, (40, 131)), (133, (70, 23)), (134, (71, 131)), (135, (81, 40)), (136, (6, 176)), (137, (2, 39)), (138, (65, 146)), (139, (74, 150)), (140, (63, 192)), (141, (39, 150)), (142, (51, 172)), (143, (17, 166)), (144, (56, 183)), (145, (32, 64)), (146, (45, 3)), (147, (25, 118)), (148, (62, 183)), (149, (92, 33)), (150, (38, 31)), (151, (12, 160)), (152, (28, 66)), (153, (77, 128)), (154, (7, 106)), (155, (6, 74)), (156, (79, 77)), (157, (69, 179)), (158, (87, 189)), (159, (25, 56)), (160, (17, 54)), (161, (21, 168)), (162, (36, 4)), (163, (30, 179)), (164, (56, 124)), (165, (84, 64)), (166, (47, 123)), (167, (13, 140)), (168, (46, 62)), (169, (61, 64)), (170, (69, 172)), (171, (50, 6)), (172, (40, 18)), (173, (2, 35)), (174, (27, 78)), (175, (31, 84)), (176, (39, 181)), (177, (30, 136)), (178, (53, 46)), (179, (86, 85)), (180, (18, 34)), (181, (37, 26)), (182, (49, 43)), (183, (45, 181)), (184, (33, 110)), (185, (85, 155)), (186, (49, 97)), (187, (98, 167)), (188, (38, 176)), (189, (49, 23)), (190, (83, 85)), (191, (6, 116)), (192, (40, 180)), (193, (77, 173)), (194, (77, 183)), (195, (22, 135)), (196, (75, 98)), (197, (44, 84)), (198, (38, 11)), (199, (62, 160)), (200, (16, 4))]\n",
      "\n",
      "----------INITIAL POPULATION---------\n",
      "\n",
      "[[1 0 1 ... 0 0 1]\n",
      " [0 0 1 ... 1 0 0]\n",
      " [1 0 1 ... 0 1 0]\n",
      " ...\n",
      " [1 0 1 ... 0 1 1]\n",
      " [0 1 0 ... 1 0 1]\n",
      " [1 0 1 ... 0 1 1]]\n",
      "\n",
      "**********INITIAL FITNESS************\n",
      "\n",
      "values: [0 0 0 0 0 0 0 0 0 0]\n",
      "weights: [0 0 0 0 0 0 0 0 0 0]\n",
      "\n",
      "------------FINAL POPULATION---------------\n",
      "\n",
      "[[1 1 0 ... 0 1 1]\n",
      " [1 1 0 ... 0 1 0]\n",
      " [1 0 0 ... 0 1 1]\n",
      " ...\n",
      " [1 1 0 ... 0 1 1]\n",
      " [1 1 0 ... 0 1 1]\n",
      " [1 1 0 ... 0 1 1]]\n",
      "\n",
      "**********FINAL FITNESS************\n",
      "\n",
      "values: [12400 12313 12315 12310 12390 12341 12303 12315 12357 12440]\n",
      "weights: [3000 2993 2992 2974 3000 2999 2986 2956 2962 2992]\n",
      "\n",
      "BEST SOLUTION\n",
      "\n",
      "[1 1 0 0 1 1 0 0 0 0 0 1 0 1 0 1 0 1 1 1 0 0 1 0 1 0 0 0 0 0 0 0 1 1 1 0 0\n",
      " 0 0 0 0 1 0 0 0 0 1 0 0 0 0 1 0 1 0 0 1 1 0 0 1 0 1 0 1 1 1 1 0 0 1 0 0 0\n",
      " 1 0 0 0 0 1 1 1 0 1 1 1 1 0 1 1 0 1 1 1 0 0 0 0 1 1 0 0 1 0 1 0 0 0 1 1 0\n",
      " 1 1 0 1 1 1 1 0 1 0 0 0 0 1 1 0 0 1 1 1 1 0 0 0 1 1 0 0 1 1 1 1 1 0 0 1 1\n",
      " 0 0 1 1 0 1 1 0 1 0 0 1 1 0 1 0 0 0 1 0 0 1 0 0 1 1 1 1 1 0 0 0 1 0 1 1 0\n",
      " 0 0 1 0 0 1 1 1 0 1 0 1 0 1 1]\n",
      "\n",
      "SELECTED ITEMS NUMBERS\n",
      "\n",
      "[1, 2, 5, 6, 12, 14, 16, 18, 19, 20, 23, 25, 33, 34, 35, 42, 47, 52, 54, 57, 58, 61, 63, 65, 66, 67, 68, 71, 75, 80, 81, 82, 84, 85, 86, 87, 89, 90, 92, 93, 94, 99, 100, 103, 105, 109, 110, 112, 113, 115, 116, 117, 118, 120, 125, 126, 129, 130, 131, 132, 136, 137, 140, 141, 142, 143, 144, 147, 148, 151, 152, 154, 155, 157, 160, 161, 163, 167, 170, 173, 174, 175, 176, 177, 181, 183, 184, 188, 191, 192, 193, 195, 197, 199, 200]\n",
      "\n"
     ]
    },
    {
     "data": {
      "image/png": "[encoded data removed]",
      "text/plain": [
       "<Figure size 640x480 with 1 Axes>"
      ]
     },
     "metadata": {},
     "output_type": "display_data"
    }
   ],
   "source": [
    "genetic_algorithm((1,100), (1,200), 200, 10, 3000, 0.05, 100000)"
   ]
  }
 ],
 "metadata": {
  "kernelspec": {
   "display_name": "Python 3 (ipykernel)",
   "language": "python",
   "name": "python3"
  },
  "language_info": {
   "codemirror_mode": {
    "name": "ipython",
    "version": 3
   },
   "file_extension": ".py",
   "mimetype": "text/x-python",
   "name": "python",
   "nbconvert_exporter": "python",
   "pygments_lexer": "ipython3",
   "version": "3.9.5"
  }
 },
 "nbformat": 4,
 "nbformat_minor": 5
}
